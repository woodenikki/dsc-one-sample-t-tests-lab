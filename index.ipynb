{
 "cells": [
  {
   "cell_type": "markdown",
   "metadata": {},
   "source": [
    "# One Sample T-Test - Lab\n",
    "\n",
    "## Introduction\n",
    "Just as you previously used the t-distribution to provide confidence intervals for estimating the population mean, you can also use similar methods to test whether two populations are different, statistically speaking. To do this, you can use a t-test.\n",
    "\n",
    "## Objectives\n",
    "You will be able to:\n",
    "\n",
    "* Perform a one sample t-test and make conclusions about an experiment based on the results\n",
    "\n",
    "### Exercise 1: \n",
    "\n",
    "Create a function in Python `one_sample_ttest(sample, popmean, alpha)` that will take in sample data (an array of observations), the population mean and the alpha value to calculate and print out the t-statistic, critical t-value, and p-value for the sample and identify if the results are significant or not. The function should also create a visualization using `seaborn` of the distribution to check for normality."
   ]
  },
  {
   "cell_type": "code",
   "execution_count": 2,
   "metadata": {},
   "outputs": [],
   "source": [
    "import numpy as np\n",
    "import scipy.stats as stats\n",
    "import seaborn as sns\n",
    "import matplotlib.pyplot as plt"
   ]
  },
  {
   "cell_type": "code",
   "execution_count": 4,
   "metadata": {},
   "outputs": [],
   "source": [
    "def one_sample_ttest(sample, popmean, alpha):\n",
    "    # Visualize sample distribution for normality\n",
    "    sns.histplot(sample, kde=True)\n",
    "    plt.title('Sample Distribution')\n",
    "    plt.show()\n",
    "\n",
    "    # Population mean\n",
    "    popmean = popmean\n",
    "\n",
    "    # Sample mean (x̄) using NumPy mean()\n",
    "    sample_mean = np.mean(sample)\n",
    "\n",
    "    # Sample Standard Deviation (sigma) using NumPy\n",
    "    sample_std = np.std(sample, ddof=1)\n",
    "\n",
    "    # Degrees of freedom\n",
    "    df = len(sample) - 1\n",
    "\n",
    "    # Calculate the critical t-value\n",
    "    critical_t = stats.t.ppf(1 - alpha/2, df)\n",
    "\n",
    "    # Calculate the t-value and p-value\n",
    "    t_value, p_value = stats.ttest_1samp(sample, popmean)\n",
    "\n",
    "    # Print results\n",
    "    print(f\"Sample Mean: {sample_mean:.2f}\")\n",
    "    print(f\"Population Mean: {popmean}\")\n",
    "    print(f\"t-statistic: {t_value:.2f}\")\n",
    "    print(f\"Critical t-value: {critical_t:.2f}\")\n",
    "    print(f\"p-value: {p_value:.4f}\")\n",
    "\n",
    "    if p_value < alpha:\n",
    "        print(\"The results are statistically significant.\")\n",
    "    else:\n",
    "        print(\"The results are not statistically significant.\")\n",
    "\n",
    "    return None"
   ]
  },
  {
   "cell_type": "markdown",
   "metadata": {},
   "source": [
    "### Exercise 2:\n",
    "\n",
    "Use the function created in Exercise 1 to answer the following analytical questions.\n",
    "\n",
    "In a Python class, some of the students have taken online courses to improve their Python skills.\n",
    "The scores of a random sample of 20 students who underwent the online-course on a Python test are as follows: \n",
    "\n",
    "     [84.0, 92.4, 74.3, 79.4, 86.7, 75.3, 90.9, 86.1, 81.0, 85.1, \n",
    "      78.7, 73.5, 86.9, 87.4, 82.7, 81.9, 69.9, 77.2, 79.3, 83.3]\n",
    "\n",
    "The mean score of the class before the test is 65. The teacher thinks that the online training has really helped the students and now they should perform better than the class (population) mean. Use this to set your null and alternative hypotheses.\n",
    "\n",
    "1. Test to see if the sample mean is significantly different from 65 at the .05 level. Report the t- and p-values.\n",
    "2. The researcher realizes that she accidentally recorded the score that should have been 80.9 as 90.9. Are these corrected scores significantly different from 65 at the .05 level?\n",
    "\n",
    "Bonus: What is the effect size of the first sample compared to the population? How can you interpret this effect size in relation to your significance test?\n",
    "\n",
    "\n",
    "### Solution:"
   ]
  },
  {
   "cell_type": "code",
   "execution_count": null,
   "metadata": {
    "scrolled": true
   },
   "outputs": [],
   "source": []
  },
  {
   "cell_type": "code",
   "execution_count": 5,
   "metadata": {
    "scrolled": true
   },
   "outputs": [
    {
     "name": "stdout",
     "output_type": "stream",
     "text": [
      "\n",
      "Original Sample:\n"
     ]
    },
    {
     "data": {
      "image/png": "[encoded data removed]",
      "text/plain": [
       "<Figure size 432x288 with 1 Axes>"
      ]
     },
     "metadata": {
      "needs_background": "light"
     },
     "output_type": "display_data"
    },
    {
     "name": "stdout",
     "output_type": "stream",
     "text": [
      "Sample Mean: 81.80\n",
      "Population Mean: 65\n",
      "t-statistic: 12.69\n",
      "Critical t-value: 2.09\n",
      "p-value: 0.0000\n",
      "The results are statistically significant.\n",
      "\n",
      "Corrected Sample:\n"
     ]
    },
    {
     "data": {
      "image/png": "[encoded data removed]",
      "text/plain": [
       "<Figure size 432x288 with 1 Axes>"
      ]
     },
     "metadata": {
      "needs_background": "light"
     },
     "output_type": "display_data"
    },
    {
     "name": "stdout",
     "output_type": "stream",
     "text": [
      "Sample Mean: 81.30\n",
      "Population Mean: 65\n",
      "t-statistic: 13.20\n",
      "Critical t-value: 2.09\n",
      "p-value: 0.0000\n",
      "The results are statistically significant.\n",
      "\n",
      "Effect Size: 2.84\n"
     ]
    }
   ],
   "source": [
    "\n",
    "# Sample data\n",
    "sample = [84.0, 92.4, 74.3, 79.4, 86.7, 75.3, 90.9, 86.1, 81.0, 85.1,\n",
    "          78.7, 73.5, 86.9, 87.4, 82.7, 81.9, 69.9, 77.2, 79.3, 83.3]\n",
    "popmean = 65\n",
    "alpha = 0.05\n",
    "\n",
    "# Test if the sample mean is significantly different from 65 at the 0.05 level\n",
    "print(\"\\nOriginal Sample:\")\n",
    "one_sample_ttest(sample, popmean, alpha)\n",
    "\n",
    "# Corrected sample\n",
    "corrected_sample = [x if x != 90.9 else 80.9 for x in sample]\n",
    "\n",
    "# Test if the corrected sample mean is significantly different from 65 at the 0.05 level\n",
    "print(\"\\nCorrected Sample:\")\n",
    "one_sample_ttest(corrected_sample, popmean, alpha)\n",
    "\n",
    "# Bonus: Effect size calculation\n",
    "sample_mean = np.mean(sample)\n",
    "effect_size = (sample_mean - popmean) / np.std(sample, ddof=1)\n",
    "print(f\"\\nEffect Size: {effect_size:.2f}\")"
   ]
  },
  {
   "cell_type": "markdown",
   "metadata": {},
   "source": [
    "## Summary\n",
    "\n",
    "In this lab, you saw a quick introduction to hypothesis testing using frequentist methods with t-values and p-values. You saw how a one sample t-test can be applied to contexts where the population mean is unknown and you have a limited amount of sample data. You looked at all the stages required for such hypothesis testing with a description of steps and also, how to perform these functions in Python. The lesson also briefly explains the comparison of using p-value for statistical significance vs. effect sizes. "
   ]
  }
 ],
 "metadata": {
  "kernelspec": {
   "display_name": "Python 3",
   "language": "python",
   "name": "python3"
  },
  "language_info": {
   "codemirror_mode": {
    "name": "ipython",
    "version": 3
   },
   "file_extension": ".py",
   "mimetype": "text/x-python",
   "name": "python",
   "nbconvert_exporter": "python",
   "pygments_lexer": "ipython3",
   "version": "3.8.5"
  },
  "toc": {
   "base_numbering": 1,
   "nav_menu": {},
   "number_sections": true,
   "sideBar": true,
   "skip_h1_title": false,
   "title_cell": "Table of Contents",
   "title_sidebar": "Contents",
   "toc_cell": false,
   "toc_position": {},
   "toc_section_display": true,
   "toc_window_display": false
  }
 },
 "nbformat": 4,
 "nbformat_minor": 2
}
